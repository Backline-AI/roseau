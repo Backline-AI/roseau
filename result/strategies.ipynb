{
 "cells": [
  {
   "cell_type": "code",
   "id": "initial_id",
   "metadata": {
    "collapsed": true,
    "ExecuteTime": {
     "end_time": "2025-04-10T13:55:12.759603Z",
     "start_time": "2025-04-10T13:55:12.757296Z"
    }
   },
   "source": [
    "import pandas as pd\n",
    "import re"
   ],
   "outputs": [],
   "execution_count": 24
  },
  {
   "cell_type": "code",
   "id": "89bf30788cb803ed",
   "metadata": {
    "ExecuteTime": {
     "end_time": "2025-04-10T13:12:48.436490Z",
     "start_time": "2025-04-10T13:12:48.354950Z"
    }
   },
   "source": [
    "bench_data = pd.read_csv('results-1743511512391.csv')\n",
    "\n",
    "bench_data.head()"
   ],
   "outputs": [
    {
     "data": {
      "text/plain": [
       "                             Strategy  Ground Truth Binary  \\\n",
       "0                        RemoveTypeC3                    1   \n",
       "1  ReduceC3VisibilityToPackagePrivate                    1   \n",
       "2             AddAbstractModifierToC3                    1   \n",
       "3               RemoveFieldF25InApiC3                    1   \n",
       "4                AddFinalModifierToC3                    1   \n",
       "\n",
       "   Ground Truth Source  Japicmp Binary  Japicmp Source  Revapi Binary  \\\n",
       "0                    1               1               1              1   \n",
       "1                    1               1               1              1   \n",
       "2                    1               1               1              1   \n",
       "3                    1               1               1              1   \n",
       "4                    1               1               1              1   \n",
       "\n",
       "   Revapi Source  Roseau Binary  Roseau Source  \n",
       "0              1              1              1  \n",
       "1              1              1              1  \n",
       "2              1              1              1  \n",
       "3              1              1              1  \n",
       "4              1              1              1  "
      ],
      "text/html": [
       "<div>\n",
       "<style scoped>\n",
       "    .dataframe tbody tr th:only-of-type {\n",
       "        vertical-align: middle;\n",
       "    }\n",
       "\n",
       "    .dataframe tbody tr th {\n",
       "        vertical-align: top;\n",
       "    }\n",
       "\n",
       "    .dataframe thead th {\n",
       "        text-align: right;\n",
       "    }\n",
       "</style>\n",
       "<table border=\"1\" class=\"dataframe\">\n",
       "  <thead>\n",
       "    <tr style=\"text-align: right;\">\n",
       "      <th></th>\n",
       "      <th>Strategy</th>\n",
       "      <th>Ground Truth Binary</th>\n",
       "      <th>Ground Truth Source</th>\n",
       "      <th>Japicmp Binary</th>\n",
       "      <th>Japicmp Source</th>\n",
       "      <th>Revapi Binary</th>\n",
       "      <th>Revapi Source</th>\n",
       "      <th>Roseau Binary</th>\n",
       "      <th>Roseau Source</th>\n",
       "    </tr>\n",
       "  </thead>\n",
       "  <tbody>\n",
       "    <tr>\n",
       "      <th>0</th>\n",
       "      <td>RemoveTypeC3</td>\n",
       "      <td>1</td>\n",
       "      <td>1</td>\n",
       "      <td>1</td>\n",
       "      <td>1</td>\n",
       "      <td>1</td>\n",
       "      <td>1</td>\n",
       "      <td>1</td>\n",
       "      <td>1</td>\n",
       "    </tr>\n",
       "    <tr>\n",
       "      <th>1</th>\n",
       "      <td>ReduceC3VisibilityToPackagePrivate</td>\n",
       "      <td>1</td>\n",
       "      <td>1</td>\n",
       "      <td>1</td>\n",
       "      <td>1</td>\n",
       "      <td>1</td>\n",
       "      <td>1</td>\n",
       "      <td>1</td>\n",
       "      <td>1</td>\n",
       "    </tr>\n",
       "    <tr>\n",
       "      <th>2</th>\n",
       "      <td>AddAbstractModifierToC3</td>\n",
       "      <td>1</td>\n",
       "      <td>1</td>\n",
       "      <td>1</td>\n",
       "      <td>1</td>\n",
       "      <td>1</td>\n",
       "      <td>1</td>\n",
       "      <td>1</td>\n",
       "      <td>1</td>\n",
       "    </tr>\n",
       "    <tr>\n",
       "      <th>3</th>\n",
       "      <td>RemoveFieldF25InApiC3</td>\n",
       "      <td>1</td>\n",
       "      <td>1</td>\n",
       "      <td>1</td>\n",
       "      <td>1</td>\n",
       "      <td>1</td>\n",
       "      <td>1</td>\n",
       "      <td>1</td>\n",
       "      <td>1</td>\n",
       "    </tr>\n",
       "    <tr>\n",
       "      <th>4</th>\n",
       "      <td>AddFinalModifierToC3</td>\n",
       "      <td>1</td>\n",
       "      <td>1</td>\n",
       "      <td>1</td>\n",
       "      <td>1</td>\n",
       "      <td>1</td>\n",
       "      <td>1</td>\n",
       "      <td>1</td>\n",
       "      <td>1</td>\n",
       "    </tr>\n",
       "  </tbody>\n",
       "</table>\n",
       "</div>"
      ]
     },
     "execution_count": 2,
     "metadata": {},
     "output_type": "execute_result"
    }
   ],
   "execution_count": 2
  },
  {
   "cell_type": "code",
   "id": "ed02a49afce02abf",
   "metadata": {
    "ExecuteTime": {
     "end_time": "2025-04-10T13:12:48.578324Z",
     "start_time": "2025-04-10T13:12:48.499207Z"
    }
   },
   "source": [
    "GROUND_TRUTH_KEY = 'Ground Truth'\n",
    "tools_analyzed = ['Japicmp', 'Revapi', 'Roseau']\n",
    "\n",
    "GENERAL_BREAKING_SUFFIX = ' Global'\n",
    "BINARY_BREAKING_SUFFIX = ' Binary'\n",
    "SOURCE_BREAKING_SUFFIX = ' Source'\n",
    "\n",
    "full_data = pd.DataFrame(columns=['bench'])\n",
    "full_data['bench'] = bench_data['Strategy']\n",
    "full_data[f'{GROUND_TRUTH_KEY}{BINARY_BREAKING_SUFFIX}'] = bench_data[f'{GROUND_TRUTH_KEY}{BINARY_BREAKING_SUFFIX}'].map(lambda x: True if x == 1 else False)\n",
    "full_data[f'{GROUND_TRUTH_KEY}{SOURCE_BREAKING_SUFFIX}'] = bench_data[f'{GROUND_TRUTH_KEY}{SOURCE_BREAKING_SUFFIX}'].map(lambda x: True if x == 1 else False)\n",
    "full_data[f'{GROUND_TRUTH_KEY}{GENERAL_BREAKING_SUFFIX}'] = full_data[f'{GROUND_TRUTH_KEY}{BINARY_BREAKING_SUFFIX}'] | full_data[f'{GROUND_TRUTH_KEY}{SOURCE_BREAKING_SUFFIX}']\n",
    "\n",
    "for tool in tools_analyzed:\n",
    "    full_data[f'{tool}{BINARY_BREAKING_SUFFIX}'] = bench_data[f'{tool}{BINARY_BREAKING_SUFFIX}'].map(lambda x: True if x == 1 else False)\n",
    "    full_data[f'{tool}{SOURCE_BREAKING_SUFFIX}'] = bench_data[f'{tool}{SOURCE_BREAKING_SUFFIX}'].map(lambda x: True if x == 1 else False)\n",
    "    full_data[f'{tool}{GENERAL_BREAKING_SUFFIX}'] = full_data[f'{tool}{BINARY_BREAKING_SUFFIX}'] | full_data[f'{tool}{SOURCE_BREAKING_SUFFIX}']\n",
    "\n",
    "full_data.head()"
   ],
   "outputs": [
    {
     "data": {
      "text/plain": [
       "                                bench  Ground Truth Binary  \\\n",
       "0                        RemoveTypeC3                 True   \n",
       "1  ReduceC3VisibilityToPackagePrivate                 True   \n",
       "2             AddAbstractModifierToC3                 True   \n",
       "3               RemoveFieldF25InApiC3                 True   \n",
       "4                AddFinalModifierToC3                 True   \n",
       "\n",
       "   Ground Truth Source  Ground Truth Global  Japicmp Binary  Japicmp Source  \\\n",
       "0                 True                 True            True            True   \n",
       "1                 True                 True            True            True   \n",
       "2                 True                 True            True            True   \n",
       "3                 True                 True            True            True   \n",
       "4                 True                 True            True            True   \n",
       "\n",
       "   Japicmp Global  Revapi Binary  Revapi Source  Revapi Global  Roseau Binary  \\\n",
       "0            True           True           True           True           True   \n",
       "1            True           True           True           True           True   \n",
       "2            True           True           True           True           True   \n",
       "3            True           True           True           True           True   \n",
       "4            True           True           True           True           True   \n",
       "\n",
       "   Roseau Source  Roseau Global  \n",
       "0           True           True  \n",
       "1           True           True  \n",
       "2           True           True  \n",
       "3           True           True  \n",
       "4           True           True  "
      ],
      "text/html": [
       "<div>\n",
       "<style scoped>\n",
       "    .dataframe tbody tr th:only-of-type {\n",
       "        vertical-align: middle;\n",
       "    }\n",
       "\n",
       "    .dataframe tbody tr th {\n",
       "        vertical-align: top;\n",
       "    }\n",
       "\n",
       "    .dataframe thead th {\n",
       "        text-align: right;\n",
       "    }\n",
       "</style>\n",
       "<table border=\"1\" class=\"dataframe\">\n",
       "  <thead>\n",
       "    <tr style=\"text-align: right;\">\n",
       "      <th></th>\n",
       "      <th>bench</th>\n",
       "      <th>Ground Truth Binary</th>\n",
       "      <th>Ground Truth Source</th>\n",
       "      <th>Ground Truth Global</th>\n",
       "      <th>Japicmp Binary</th>\n",
       "      <th>Japicmp Source</th>\n",
       "      <th>Japicmp Global</th>\n",
       "      <th>Revapi Binary</th>\n",
       "      <th>Revapi Source</th>\n",
       "      <th>Revapi Global</th>\n",
       "      <th>Roseau Binary</th>\n",
       "      <th>Roseau Source</th>\n",
       "      <th>Roseau Global</th>\n",
       "    </tr>\n",
       "  </thead>\n",
       "  <tbody>\n",
       "    <tr>\n",
       "      <th>0</th>\n",
       "      <td>RemoveTypeC3</td>\n",
       "      <td>True</td>\n",
       "      <td>True</td>\n",
       "      <td>True</td>\n",
       "      <td>True</td>\n",
       "      <td>True</td>\n",
       "      <td>True</td>\n",
       "      <td>True</td>\n",
       "      <td>True</td>\n",
       "      <td>True</td>\n",
       "      <td>True</td>\n",
       "      <td>True</td>\n",
       "      <td>True</td>\n",
       "    </tr>\n",
       "    <tr>\n",
       "      <th>1</th>\n",
       "      <td>ReduceC3VisibilityToPackagePrivate</td>\n",
       "      <td>True</td>\n",
       "      <td>True</td>\n",
       "      <td>True</td>\n",
       "      <td>True</td>\n",
       "      <td>True</td>\n",
       "      <td>True</td>\n",
       "      <td>True</td>\n",
       "      <td>True</td>\n",
       "      <td>True</td>\n",
       "      <td>True</td>\n",
       "      <td>True</td>\n",
       "      <td>True</td>\n",
       "    </tr>\n",
       "    <tr>\n",
       "      <th>2</th>\n",
       "      <td>AddAbstractModifierToC3</td>\n",
       "      <td>True</td>\n",
       "      <td>True</td>\n",
       "      <td>True</td>\n",
       "      <td>True</td>\n",
       "      <td>True</td>\n",
       "      <td>True</td>\n",
       "      <td>True</td>\n",
       "      <td>True</td>\n",
       "      <td>True</td>\n",
       "      <td>True</td>\n",
       "      <td>True</td>\n",
       "      <td>True</td>\n",
       "    </tr>\n",
       "    <tr>\n",
       "      <th>3</th>\n",
       "      <td>RemoveFieldF25InApiC3</td>\n",
       "      <td>True</td>\n",
       "      <td>True</td>\n",
       "      <td>True</td>\n",
       "      <td>True</td>\n",
       "      <td>True</td>\n",
       "      <td>True</td>\n",
       "      <td>True</td>\n",
       "      <td>True</td>\n",
       "      <td>True</td>\n",
       "      <td>True</td>\n",
       "      <td>True</td>\n",
       "      <td>True</td>\n",
       "    </tr>\n",
       "    <tr>\n",
       "      <th>4</th>\n",
       "      <td>AddFinalModifierToC3</td>\n",
       "      <td>True</td>\n",
       "      <td>True</td>\n",
       "      <td>True</td>\n",
       "      <td>True</td>\n",
       "      <td>True</td>\n",
       "      <td>True</td>\n",
       "      <td>True</td>\n",
       "      <td>True</td>\n",
       "      <td>True</td>\n",
       "      <td>True</td>\n",
       "      <td>True</td>\n",
       "      <td>True</td>\n",
       "    </tr>\n",
       "  </tbody>\n",
       "</table>\n",
       "</div>"
      ]
     },
     "execution_count": 3,
     "metadata": {},
     "output_type": "execute_result"
    }
   ],
   "execution_count": 3
  },
  {
   "metadata": {
    "ExecuteTime": {
     "end_time": "2025-04-10T14:04:34.582797Z",
     "start_time": "2025-04-10T14:04:34.575305Z"
    }
   },
   "cell_type": "code",
   "source": [
    "STRATEGIES = [\n",
    "    re.compile(r'^Add.+ModifierTo.+$'),\n",
    "    re.compile(r'^AddException.+ToConstructor.+In.+$'),\n",
    "    re.compile(r'^AddException.+ToMethod.+In.+$'),\n",
    "    re.compile(r'^AddMethodToType.+$'),\n",
    "    re.compile(r'^AddModifier.+ToField.+In.+$'),\n",
    "    re.compile(r'^AddModifier.+ToMethod.+In.+$'),\n",
    "    re.compile(r'^AddParameter.+ToConstructor.+In.+$'),\n",
    "    re.compile(r'^AddParameter.+ToMethod.+In.+$'),\n",
    "    re.compile(r'^AddRecordComponent.+ToRecord.+$'),\n",
    "    re.compile(r'^ChangeField.+In.+TypeTo.+$'),\n",
    "    re.compile(r'^ChangeMethod.+In.+TypeTo.+$'),\n",
    "    re.compile(r'^ChangeParameter.+To.+FromConstructor.+In.+$'),\n",
    "    re.compile(r'^ChangeParameter.+To.+FromMethod.+In.+$'),\n",
    "    re.compile(r'^ChangeRecordComponent.+To.+FromRecord%s$'),\n",
    "    re.compile(r'^Reduce.+VisibilityTo.+$'),\n",
    "    re.compile(r'^ReduceConstructor.+In.+VisibilityTo.+$'),\n",
    "    re.compile(r'^ReduceField.+In.+VisibilityTo.+$'),\n",
    "    re.compile(r'^ReduceMethod.+In.+VisibilityTo.+$'),\n",
    "    re.compile(r'^Remove.+ModifierIn.+$'),\n",
    "    re.compile(r'^RemoveConstructor.+In.+$'),\n",
    "    re.compile(r'^RemoveEnumValue.+In.+$'),\n",
    "    re.compile(r'^RemoveException.+FromConstructor.+In.+$'),\n",
    "    re.compile(r'^RemoveException.+FromMethod.+In.+$'),\n",
    "    re.compile(r'^RemoveField.+In.+$'),\n",
    "    re.compile(r'^RemoveMethod.+In.+$'),\n",
    "    re.compile(r'^RemoveModifier.+ToField.+In.+$'),\n",
    "    re.compile(r'^RemoveModifier.+ToMethod.+In.+$'),\n",
    "    re.compile(r'^RemoveParameter.+FromConstructor.+In.+$'),\n",
    "    re.compile(r'^RemoveParameter.+FromMethod.+In.+$'),\n",
    "    re.compile(r'^RemoveRecordComponent.+FromRecord.+$'),\n",
    "    re.compile(r'^RemoveType.+$'),\n",
    "]\n",
    "\n",
    "def get_strategies_from_benchs(benchs):\n",
    "    unique_strategies = set()\n",
    "    for bench in benchs:\n",
    "        for strategy in STRATEGIES:\n",
    "            if strategy.match(bench):\n",
    "                unique_strategies.add(strategy.pattern)\n",
    "                break\n",
    "\n",
    "    return sorted(unique_strategies)"
   ],
   "id": "794bb61d82613583",
   "outputs": [],
   "execution_count": 34
  },
  {
   "metadata": {
    "ExecuteTime": {
     "end_time": "2025-04-10T14:06:39.436941Z",
     "start_time": "2025-04-10T14:06:39.408550Z"
    }
   },
   "cell_type": "code",
   "source": [
    "not_binary_breaking_for_ground_truth_but_breaking_for_all_tools = full_data.query('`Ground Truth Binary` == False and `Japicmp Binary` == True and `Revapi Binary` == True and `Roseau Binary` == True')\n",
    "not_binary_breaking_for_ground_truth_but_breaking_for_all_tools = not_binary_breaking_for_ground_truth_but_breaking_for_all_tools.sort_values(by='bench')\n",
    "\n",
    "print(len(not_binary_breaking_for_ground_truth_but_breaking_for_all_tools.index))\n",
    "\n",
    "binary_benchs = not_binary_breaking_for_ground_truth_but_breaking_for_all_tools['bench'].tolist()\n",
    "binary_strategies = get_strategies_from_benchs(binary_benchs)\n",
    "\n",
    "print(binary_strategies)"
   ],
   "id": "8b2e28b79e52ba2a",
   "outputs": [
    {
     "name": "stdout",
     "output_type": "stream",
     "text": [
      "6863\n",
      "['^AddModifier.+ToField.+In.+$', '^AddModifier.+ToMethod.+In.+$', '^AddParameter.+ToConstructor.+In.+$', '^AddParameter.+ToMethod.+In.+$', '^ChangeField.+In.+TypeTo.+$', '^ChangeMethod.+In.+TypeTo.+$', '^ChangeParameter.+To.+FromMethod.+In.+$', '^Reduce.+VisibilityTo.+$', '^RemoveConstructor.+In.+$', '^RemoveField.+In.+$', '^RemoveMethod.+In.+$', '^RemoveModifier.+ToField.+In.+$', '^RemoveModifier.+ToMethod.+In.+$', '^RemoveParameter.+FromMethod.+In.+$']\n"
     ]
    }
   ],
   "execution_count": 38
  },
  {
   "metadata": {
    "ExecuteTime": {
     "end_time": "2025-04-10T14:06:40.028983Z",
     "start_time": "2025-04-10T14:06:39.983357Z"
    }
   },
   "cell_type": "code",
   "source": [
    "not_source_breaking_for_ground_truth_but_breaking_for_all_tools = full_data.query('`Ground Truth Source` == False and `Japicmp Source` == True and `Revapi Source` == True and `Roseau Source` == True')\n",
    "not_source_breaking_for_ground_truth_but_breaking_for_all_tools = not_source_breaking_for_ground_truth_but_breaking_for_all_tools.sort_values(by='bench')\n",
    "\n",
    "print(len(not_source_breaking_for_ground_truth_but_breaking_for_all_tools.index))\n",
    "\n",
    "source_benchs = not_source_breaking_for_ground_truth_but_breaking_for_all_tools['bench'].tolist()\n",
    "source_strategies = get_strategies_from_benchs(source_benchs)\n",
    "\n",
    "print(source_strategies)"
   ],
   "id": "3749ac093c487343",
   "outputs": [
    {
     "name": "stdout",
     "output_type": "stream",
     "text": [
      "16851\n",
      "['^AddException.+ToConstructor.+In.+$', '^AddException.+ToMethod.+In.+$', '^AddParameter.+ToConstructor.+In.+$', '^AddParameter.+ToMethod.+In.+$', '^AddRecordComponent.+ToRecord.+$', '^ChangeField.+In.+TypeTo.+$', '^ChangeMethod.+In.+TypeTo.+$', '^ChangeParameter.+To.+FromMethod.+In.+$', '^Reduce.+VisibilityTo.+$', '^RemoveConstructor.+In.+$', '^RemoveException.+FromConstructor.+In.+$', '^RemoveException.+FromMethod.+In.+$', '^RemoveMethod.+In.+$']\n"
     ]
    }
   ],
   "execution_count": 39
  },
  {
   "metadata": {
    "ExecuteTime": {
     "end_time": "2025-04-10T14:06:40.345362Z",
     "start_time": "2025-04-10T14:06:40.330851Z"
    }
   },
   "cell_type": "code",
   "source": [
    "not_global_breaking_for_ground_truth_but_breaking_for_all_tools = full_data.query('`Ground Truth Global` == False and `Japicmp Global` == True and `Revapi Global` == True and `Roseau Global` == True')\n",
    "not_global_breaking_for_ground_truth_but_breaking_for_all_tools = not_global_breaking_for_ground_truth_but_breaking_for_all_tools.sort_values(by='bench')\n",
    "\n",
    "print(len(not_global_breaking_for_ground_truth_but_breaking_for_all_tools.index))\n",
    "\n",
    "global_benchs = not_global_breaking_for_ground_truth_but_breaking_for_all_tools['bench'].tolist()\n",
    "global_strategies = get_strategies_from_benchs(global_benchs)\n",
    "\n",
    "print(global_strategies)"
   ],
   "id": "c672d95734084b06",
   "outputs": [
    {
     "name": "stdout",
     "output_type": "stream",
     "text": [
      "3886\n",
      "['^AddException.+ToConstructor.+In.+$', '^AddException.+ToMethod.+In.+$', '^AddModifier.+ToField.+In.+$', '^AddModifier.+ToMethod.+In.+$', '^AddParameter.+ToConstructor.+In.+$', '^AddParameter.+ToMethod.+In.+$', '^ChangeField.+In.+TypeTo.+$', '^ChangeMethod.+In.+TypeTo.+$', '^ChangeParameter.+To.+FromMethod.+In.+$', '^Reduce.+VisibilityTo.+$', '^RemoveConstructor.+In.+$', '^RemoveException.+FromConstructor.+In.+$', '^RemoveException.+FromMethod.+In.+$', '^RemoveMethod.+In.+$']\n"
     ]
    }
   ],
   "execution_count": 40
  },
  {
   "metadata": {
    "ExecuteTime": {
     "end_time": "2025-04-10T14:06:59.948788Z",
     "start_time": "2025-04-10T14:06:59.946341Z"
    }
   },
   "cell_type": "code",
   "source": [
    "all_strategies = set()\n",
    "all_strategies.update(binary_strategies)\n",
    "all_strategies.update(source_strategies)\n",
    "all_strategies.update(global_strategies)\n",
    "all_strategies = sorted(all_strategies)\n",
    "print(len(all_strategies))\n",
    "print(all_strategies)"
   ],
   "id": "73b2ffcdfa099766",
   "outputs": [
    {
     "name": "stdout",
     "output_type": "stream",
     "text": [
      "19\n",
      "['^AddException.+ToConstructor.+In.+$', '^AddException.+ToMethod.+In.+$', '^AddModifier.+ToField.+In.+$', '^AddModifier.+ToMethod.+In.+$', '^AddParameter.+ToConstructor.+In.+$', '^AddParameter.+ToMethod.+In.+$', '^AddRecordComponent.+ToRecord.+$', '^ChangeField.+In.+TypeTo.+$', '^ChangeMethod.+In.+TypeTo.+$', '^ChangeParameter.+To.+FromMethod.+In.+$', '^Reduce.+VisibilityTo.+$', '^RemoveConstructor.+In.+$', '^RemoveException.+FromConstructor.+In.+$', '^RemoveException.+FromMethod.+In.+$', '^RemoveField.+In.+$', '^RemoveMethod.+In.+$', '^RemoveModifier.+ToField.+In.+$', '^RemoveModifier.+ToMethod.+In.+$', '^RemoveParameter.+FromMethod.+In.+$']\n"
     ]
    }
   ],
   "execution_count": 42
  },
  {
   "metadata": {},
   "cell_type": "code",
   "outputs": [],
   "execution_count": null,
   "source": "",
   "id": "dd298d0252bf8fab"
  }
 ],
 "metadata": {
  "kernelspec": {
   "display_name": ".venv",
   "language": "python",
   "name": "python3"
  },
  "language_info": {
   "codemirror_mode": {
    "name": "ipython",
    "version": 3
   },
   "file_extension": ".py",
   "mimetype": "text/x-python",
   "name": "python",
   "nbconvert_exporter": "python",
   "pygments_lexer": "ipython3",
   "version": "3.13.2"
  }
 },
 "nbformat": 4,
 "nbformat_minor": 5
}
